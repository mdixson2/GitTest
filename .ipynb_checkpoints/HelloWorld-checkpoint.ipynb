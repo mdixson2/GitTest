{
 "cells": [
  {
   "cell_type": "code",
   "execution_count": 1,
   "metadata": {},
   "outputs": [
    {
     "name": "stdout",
     "output_type": "stream",
     "text": [
      "Hello World! Right now, it is Mon Mar 11 15:10:01 2019.\n"
     ]
    }
   ],
   "source": [
    "from datetime import datetime\n",
    "print(\"Hello World! Right now, it is {}.\".format(datetime.today().strftime(\"%c\")))"
   ]
  },
  {
   "cell_type": "code",
   "execution_count": 3,
   "metadata": {},
   "outputs": [
    {
     "name": "stdout",
     "output_type": "stream",
     "text": [
      "Hello World! Right now, it is Mon Mar 11 15:11:24 2019.\n",
      "Hello again\n"
     ]
    }
   ],
   "source": [
    "from datetime import datetime\n",
    "print(\"Hello World! Right now, it is {}.\".format(datetime.today().strftime(\"%c\")))\n",
    "print(\"Hello again\")"
   ]
  },
  {
   "cell_type": "code",
   "execution_count": null,
   "metadata": {},
   "outputs": [],
   "source": []
  }
 ],
 "metadata": {
  "kernelspec": {
   "display_name": "Python 3",
   "language": "python",
   "name": "python3"
  },
  "language_info": {
   "codemirror_mode": {
    "name": "ipython",
    "version": 3
   },
   "file_extension": ".py",
   "mimetype": "text/x-python",
   "name": "python",
   "nbconvert_exporter": "python",
   "pygments_lexer": "ipython3",
   "version": "3.7.1"
  }
 },
 "nbformat": 4,
 "nbformat_minor": 2
}
